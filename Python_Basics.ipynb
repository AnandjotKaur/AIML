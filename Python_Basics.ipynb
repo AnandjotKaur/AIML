{
  "nbformat": 4,
  "nbformat_minor": 0,
  "metadata": {
    "colab": {
      "provenance": [],
      "authorship_tag": "ABX9TyN0kGXfJxfrghrTGaN/bVoP",
      "include_colab_link": true
    },
    "kernelspec": {
      "name": "python3",
      "display_name": "Python 3"
    },
    "language_info": {
      "name": "python"
    }
  },
  "cells": [
    {
      "cell_type": "markdown",
      "metadata": {
        "id": "view-in-github",
        "colab_type": "text"
      },
      "source": [
        "<a href=\"https://colab.research.google.com/github/AnandjotKaur/AIML/blob/main/Python_Basics.ipynb\" target=\"_parent\"><img src=\"https://colab.research.google.com/assets/colab-badge.svg\" alt=\"Open In Colab\"/></a>"
      ]
    },
    {
      "cell_type": "code",
      "execution_count": null,
      "metadata": {
        "id": "UnO9389wO_HE"
      },
      "outputs": [],
      "source": []
    },
    {
      "cell_type": "markdown",
      "source": [],
      "metadata": {
        "id": "38NAqEeRPufv"
      }
    },
    {
      "cell_type": "markdown",
      "source": [
        "Q1. L is a list defined as L= [11, 12, 13, 14].\n",
        "(i) WAP to add 50 and 60 to L. \n",
        "(ii) WAP to remove 11 and 13from L.\n",
        "(iii) WAP to sort L in ascending order.\n",
        "(iv) WAP to sort L in descending order.\n",
        "(v) WAP to search for 13 in L.\n",
        "(vi) WAP to count the number of elements present in L.\n",
        "(vii) WAP to sum all the elements in L.\n",
        "(viii) WAP to sum all ODD numbers in L.\n",
        "(ix) WAP to sum all EVEN numbers in L.\n",
        "(x) WAP to sum all PRIME numbers in L.\n",
        "(xi) WAP to clear all the elements in L.\n",
        "(xii) WAP to delete L"
      ],
      "metadata": {
        "id": "O_xzPw1ZQAla"
      }
    },
    {
      "cell_type": "code",
      "source": [
        "#  (i) WAP to add 50 and 60 to L. \n",
        "L= [11, 12, 13, 14, 7,3]\n",
        "print (\"Original List: \", L)\n",
        "L.append(50)\n",
        "L.insert(5,60)\n",
        "print (\"Updated List: \", L)\n",
        "#(ii) WAP to remove 11 and 13from L. \n",
        "L.remove(11)\n",
        "L.remove(13)\n",
        "#(iii) WAP to sort L in ascending order.\n",
        "L.sort\n",
        "print (\"Sorted List: \", L)\n",
        "# (iv) WAP to sort L in descending order.\n",
        "L.sort(reverse=1) \n",
        "print (\"Desc Sorted List: \", L)\n",
        "#(v) WAP to search for 13 in L. \n",
        "print (\"Search for 13 in List --> \", 13 in L)\n",
        "#(vi) WAP to count the number of elements present in L. \n",
        "print (\"Count elements in List --> \", len(L))\n",
        "#(vii) WAP to sum all the elements in L. \n",
        "print (\"Sum     --> \", sum(L))\n",
        "#(viii) WAP to sum all ODD numbers in L. \n",
        "Sum1=0\n",
        "Sum2=0\n",
        "for i in L:\n",
        "  if  i % 2 == 0: \n",
        "    Sum1=Sum1+i\n",
        "  else:\n",
        "    Sum2=Sum2+i\n",
        "print (\"Sum of odd numbers     --> \", Sum2)\n",
        "#(ix) WAP to sum all EVEN numbers in L. \n",
        "print (\"Sum of even numbers     --> \", Sum1)\n",
        "#(x) WAP to sum all PRIME numbers in L. \n",
        "def IsPrime(n):\n",
        "\tfor i in range(2, n//2 + 1):\n",
        "\t\tif n%i==0:\n",
        "\t\t\treturn 0\n",
        "\treturn 1\n",
        "\n",
        "Sum3=0\n",
        "for i in L:\n",
        "  if  IsPrime(i): \n",
        "    Sum3=Sum3+i\n",
        "\n",
        "print (\"Sum of prime numbers     --> \", Sum3)\n",
        "#(xi) WAP to clear all the elements in L. \n",
        "print (\"Current List: \", L)\n",
        "L.clear();\n",
        "print (\"Cleared List: \", L)\n",
        "#(xii) WAP to delete L\n",
        "del L\n",
        "print (\"List Deleted: \")"
      ],
      "metadata": {
        "colab": {
          "base_uri": "https://localhost:8080/"
        },
        "id": "xNd6_xRIQB58",
        "outputId": "75bb0c0d-4378-48f2-c60f-bd5ebb8c9c63"
      },
      "execution_count": null,
      "outputs": [
        {
          "output_type": "stream",
          "name": "stdout",
          "text": [
            "Original List:  [11, 12, 13, 14, 7, 3]\n",
            "Updated List:  [11, 12, 13, 14, 7, 60, 3, 50]\n",
            "Sorted List:  [12, 14, 7, 60, 3, 50]\n",
            "Desc Sorted List:  [60, 50, 14, 12, 7, 3]\n",
            "Search for 13 in List -->  False\n",
            "Count elements in List -->  6\n",
            "Sum     -->  146\n",
            "Sum of odd numbers     -->  10\n",
            "Sum of even numbers     -->  136\n",
            "Sum of prime numbers     -->  10\n",
            "Current List:  [60, 50, 14, 12, 7, 3]\n",
            "Cleared List:  []\n",
            "List Deleted: \n"
          ]
        }
      ]
    },
    {
      "cell_type": "markdown",
      "source": [
        "Q2. D is a dictionary defined as D= {1:5.6, 2:7.8, 3:6.6, 4:8.7, 5:7.7}.\n",
        "(i) WAP to add new entry in D; key=8 and value is 8.8\n",
        "(ii) WAP to remove key=2.\n",
        "(iii) WAP to check weather 6 key is present in D.\n",
        "(iv) WAP to count the number of elements present in D.\n",
        "(v) WAP to add all the values present D.\n",
        "(vi) WAP to update the value of 3 to 7.1.\n",
        "(vii) WAP to clear the dictionary"
      ],
      "metadata": {
        "id": "2cvnlcc3XZF8"
      }
    },
    {
      "cell_type": "code",
      "source": [
        "D= {1:5.6, 2:7.8, 3:6.6, 4:8.7, 5:7.7}\n",
        "print (\"Original Dictionary --> \", D)\n",
        "# (i) WAP to add new entry in D; key=8 and value is 8.8\n",
        "D[8]=8.8\n",
        "print (\"After Adding --> \", D)\n",
        "# (ii) WAP to remove key=2. \n",
        "del D[2]\n",
        "print (\"After deleting 2 --> \", D)\n",
        "#(iii) WAP to check weather 6 key is present in D. \n",
        "print (\"is 6 key present --> \", 6 in D)\n",
        "#(iv) WAP to count the number of elements present in D. \n",
        "print (\"Number of elements --> \", len(D))\n",
        "#(v) WAP to add all the values present D. \n",
        "print (\"Add all values --> \", sum(D.values()))\n",
        "#(vi) WAP to update the value of 3 to 7.1. \n",
        "D[3]=7.1\n",
        "print (\"After updating --> \", D)\n",
        "#(vii) WAP to clear the dictionary\n",
        "del D\n",
        "try:\n",
        "  print (\"Dictionary  --> \", D)\n",
        "except:\n",
        "  print (\"D does not exist \")"
      ],
      "metadata": {
        "colab": {
          "base_uri": "https://localhost:8080/"
        },
        "id": "R7j9GC8eXei8",
        "outputId": "c308c08e-6383-44f7-f6ac-1f03e6255dac"
      },
      "execution_count": null,
      "outputs": [
        {
          "output_type": "stream",
          "name": "stdout",
          "text": [
            "Original Dictionary -->  {1: 5.6, 2: 7.8, 3: 6.6, 4: 8.7, 5: 7.7}\n",
            "After Adding -->  {1: 5.6, 2: 7.8, 3: 6.6, 4: 8.7, 5: 7.7, 8: 8.8}\n",
            "After deleting 2 -->  {1: 5.6, 3: 6.6, 4: 8.7, 5: 7.7, 8: 8.8}\n",
            "is 6 key present -->  False\n",
            "Number of elements -->  5\n",
            "Add all values -->  37.4\n",
            "After updating -->  {1: 5.6, 3: 7.1, 4: 8.7, 5: 7.7, 8: 8.8}\n",
            "D does not exist \n"
          ]
        }
      ]
    },
    {
      "cell_type": "markdown",
      "source": [
        "Q3. S1 is a set defined as S1= [10, 20, 30, 40, 50, 60].\n",
        " S2 is a set defined as S2= [40, 50, 60, 70, 80, 90].\n",
        "(i) WAP to add 55 and 66 in Set S1.\n",
        "(ii) WAP to remove 10 and 30 from Set S1.\n",
        "(iii) WAP to check whether 40 is present in S1.\n",
        "(iv) WAP to find the union between S1 and S2.\n",
        "(v) WAP to find the intersection between S1 and S2.\n",
        "(vi) WAP to find the S1 - S2."
      ],
      "metadata": {
        "id": "9mYmiD-4lH1x"
      }
    },
    {
      "cell_type": "code",
      "source": [
        "#Q3. S1 is a set defined as S1= [10, 20, 30, 40, 50, 60].\n",
        "# S2 is a set defined as S2= [40, 50, 60, 70, 80, 90].\n",
        "S1= set([10, 20, 30, 40, 50, 60])\n",
        "S2= set([40, 50, 60, 70, 80, 90])\n",
        "print (\"Original set S1      --> \", S1)\n",
        "print (\"Original set S2      --> \", S2)\n",
        "#(i) WAP to add 55 and 66 in Set S1.\n",
        "S1.add(55)\n",
        "S1.add(66)\n",
        "print (\"After adding set S1      --> \", S1)\n",
        "#(ii) WAP to remove 10 and 30 from Set S1.\n",
        "S1.remove(10)\n",
        "S1.remove(30)\n",
        "print (\"removing from set S1      --> \", S1)\n",
        "#(iii) WAP to check whether 40 is present in S1.\n",
        "print (\"is 40 key present --> \", 40 in S1)\n",
        "#(iv) WAP to find the union between S1 and S2.\n",
        "print (\"Union of S1 and S2    --> \", S1.union(S2))\n",
        "#(v) WAP to find the intersection between S1 and S2.\n",
        "print (\"Union of S1 and S2    --> \", S1.intersection(S2))\n",
        "#(vi) WAP to find the S1 - S2.\n",
        "print (\"difference of S1 and S2    --> \", S1-S2)"
      ],
      "metadata": {
        "colab": {
          "base_uri": "https://localhost:8080/"
        },
        "id": "4zW295AYlLe0",
        "outputId": "f887f809-1c8f-46f0-900f-419919969d83"
      },
      "execution_count": null,
      "outputs": [
        {
          "output_type": "stream",
          "name": "stdout",
          "text": [
            "Original set S1      -->  {40, 10, 50, 20, 60, 30}\n",
            "Original set S2      -->  {70, 40, 80, 50, 90, 60}\n",
            "After adding set S1      -->  {66, 40, 10, 50, 20, 55, 60, 30}\n",
            "removing from set S1      -->  {66, 40, 50, 20, 55, 60}\n",
            "is 40 key present -->  True\n",
            "Union of S1 and S2    -->  {66, 70, 40, 80, 50, 20, 55, 90, 60}\n",
            "Union of S1 and S2    -->  {40, 50, 60}\n",
            "difference of S1 and S2    -->  {66, 20, 55}\n"
          ]
        }
      ]
    },
    {
      "cell_type": "markdown",
      "source": [
        ". Write the following program.\n",
        "(i) WAP to print 100 random strings whose length between 6 and 8.\n",
        "(ii) WAP to print all prime numbers between 600 and 800.\n",
        "(iii) WAP to print all numbers between 100 and 1000 that are divisible by 7 and 9"
      ],
      "metadata": {
        "id": "Se4Y-dAunpwY"
      }
    },
    {
      "cell_type": "code",
      "source": [
        "#(i) WAP to print 100 random strings whose length between 6 and 8.\n",
        "import string as s\n",
        "import random as r\n",
        "print (\"Random numbers 6 to 8 length        --> \")\n",
        "\n",
        "for i in range(0,5):\n",
        "  k=r.randint(6,8)\n",
        "  passwd=r.sample(s.ascii_letters, k)\n",
        "  passwd1=\"\".join(passwd)\n",
        "  print (passwd1)\n",
        "\n",
        "#(ii) WAP to print all prime numbers between 600 and 800.\n",
        "print (\"print all prime numbers between 600 and 800        --> \")\n",
        "def IsPrime(n):\n",
        "\tfor i in range(2, n//2 + 1):\n",
        "\t\tif n%i==0:\n",
        "\t\t\treturn 0\n",
        "\treturn 1\n",
        "\n",
        "for i in range(600,801):\n",
        "  if IsPrime(i):\n",
        "    print (i)\n",
        "\n",
        "#(iii) WAP to print all numbers between 100 and 1000 that are divisible by 7 and 9\n",
        "print (\"print all numbers between 100 and 1000 that are divisible by 7 and 9        --> \")\n",
        "for i in range(100,1000):\n",
        "  if ( i % 7 == 0 and i % 9 == 0):\n",
        "    print (i)"
      ],
      "metadata": {
        "colab": {
          "base_uri": "https://localhost:8080/"
        },
        "id": "Zi4gZtwmnrt3",
        "outputId": "502b1987-5b31-46bb-ff00-445fe991cfe4"
      },
      "execution_count": null,
      "outputs": [
        {
          "output_type": "stream",
          "name": "stdout",
          "text": [
            "Random numbers 6 to 8 length        --> \n",
            "qfNIiJ\n",
            "YbZAuO\n",
            "yifHErqP\n",
            "ETfaRGJ\n",
            "vBylKa\n",
            "print all prime numbers between 600 and 800        --> \n",
            "601\n",
            "607\n",
            "613\n",
            "617\n",
            "619\n",
            "631\n",
            "641\n",
            "643\n",
            "647\n",
            "653\n",
            "659\n",
            "661\n",
            "673\n",
            "677\n",
            "683\n",
            "691\n",
            "701\n",
            "709\n",
            "719\n",
            "727\n",
            "733\n",
            "739\n",
            "743\n",
            "751\n",
            "757\n",
            "761\n",
            "769\n",
            "773\n",
            "787\n",
            "797\n",
            "print all numbers between 100 and 1000 that are divisible by 7 and 9        --> \n",
            "126\n",
            "189\n",
            "252\n",
            "315\n",
            "378\n",
            "441\n",
            "504\n",
            "567\n",
            "630\n",
            "693\n",
            "756\n",
            "819\n",
            "882\n",
            "945\n"
          ]
        }
      ]
    },
    {
      "cell_type": "markdown",
      "source": [
        "WAP to create two lists of 10 random numbers between 10 and 30; Find \n",
        "(i) Common numbers in the two lists\n",
        "(ii) Unique numbers in both the list\n",
        "(iii) Minimum in both the list\n",
        "(iv) Maximum in both the list\n",
        "(v) Sum of both the lists"
      ],
      "metadata": {
        "id": "Sle72Clesdp3"
      }
    },
    {
      "cell_type": "code",
      "source": [
        "#WAP to create two lists of 10 random numbers between 10 and 30; Find \n",
        "#(i) Common numbers in the two lists\n",
        "#(ii) Unique numbers in both the list\n",
        "#(iii) Minimum in both the list\n",
        "#(iv) Maximum in both the list\n",
        "#(v) Sum of both the lists\n",
        "L1= []\n",
        "L2=[]\n",
        "uniqueL1=[]\n",
        "uniqueL2=[]\n",
        "common=[]\n",
        "for i in range(0,10):\n",
        "  L1.append(r.randint(10,30))\n",
        "  L2.append(r.randint(10,30))\n",
        "\n",
        "print(\"L1 list is\", L1)\n",
        "print(\"L2 list is\", L2)\n",
        "\n",
        "for i in L1:\n",
        "  if i in L2:\n",
        "    #print (\"Common in L1 and L2 : \",i)\n",
        "    common.append(i)\n",
        "  else:\n",
        "    #print (\"unique in L1: \", i)\n",
        "    uniqueL1.append(i)\n",
        "\n",
        "for i in L1:\n",
        "  if i not in L2:\n",
        "    #print (\"unique in L2: \", i)\n",
        "    uniqueL2.append(i)\n",
        "\n",
        "print(\"uniqueL1 list is\", uniqueL1)\n",
        "print(\"uniqueL2 list is\", uniqueL2)\n",
        "print(\"common list is\", common)\n",
        "L1.sort()\n",
        "L2.sort()\n",
        "print (\"max L1\",L1[9])\n",
        "print (\"min L1\",L1[0])\n",
        "print (\"max L2\",L2[9])\n",
        "print (\"min L2\",L2[0])\n",
        "print (\"sum of both the list\", sum(L1) + sum(L2))"
      ],
      "metadata": {
        "colab": {
          "base_uri": "https://localhost:8080/"
        },
        "id": "Av6FClNQsfx_",
        "outputId": "9a88458c-e4fd-47bd-f64c-f7a2c48ea2df"
      },
      "execution_count": null,
      "outputs": [
        {
          "output_type": "stream",
          "name": "stdout",
          "text": [
            "L1 list is [30, 12, 25, 22, 21, 14, 22, 10, 10, 27]\n",
            "L2 list is [29, 20, 29, 15, 23, 21, 13, 27, 15, 17]\n",
            "uniqueL1 list is [30, 12, 25, 22, 14, 22, 10, 10]\n",
            "uniqueL2 list is [30, 12, 25, 22, 14, 22, 10, 10]\n",
            "common list is [21, 27]\n",
            "max L1 30\n",
            "min L1 10\n",
            "max L2 29\n",
            "min L2 13\n",
            "combined list 402\n"
          ]
        }
      ]
    },
    {
      "cell_type": "markdown",
      "source": [
        "Q6. WAP to create a list of 100 random numbers between 100 and 900. Count and print the: \n",
        "(i) All odd numbers\n",
        "(ii) All even numbers\n",
        "(iii) All prime numbers"
      ],
      "metadata": {
        "id": "FCXnNHKvxKqh"
      }
    },
    {
      "cell_type": "code",
      "source": [
        "oddL1=[]\n",
        "evenL1=[]\n",
        "primeL1=[]\n",
        "\n",
        "def IsPrime(n):\n",
        "\tfor i in range(2, n//2 + 1):\n",
        "\t\tif n%i==0:\n",
        "\t\t\treturn 0\n",
        "\treturn 1\n",
        "\n",
        "for q in range(0,10):\n",
        "  k=r.randint(100,900)\n",
        "  if(k) % 2==0:\n",
        "    evenL1.append(k)\n",
        "  else:\n",
        "    oddL1.append(k)\n",
        "  if IsPrime(k):\n",
        "    primeL1.append(k)\n",
        "\n",
        "print(\"odd list\", oddL1)\n",
        "print(\"odd list count\", len(oddL1))\n",
        "print(\"even list\", evenL1)\n",
        "print(\"even list count\", len(evenL1))\n",
        "print(\"Prime list\", primeL1)\n",
        "print(\"Prime list count\", len(primeL1))\n",
        "  \n",
        "  \n"
      ],
      "metadata": {
        "colab": {
          "base_uri": "https://localhost:8080/"
        },
        "id": "kiPJHa0WxLZt",
        "outputId": "0ae2999a-1eca-4b20-f68b-7b4672442d12"
      },
      "execution_count": null,
      "outputs": [
        {
          "output_type": "stream",
          "name": "stdout",
          "text": [
            "odd list [557, 199, 707, 641, 531, 547, 587]\n",
            "odd list count 7\n",
            "even list [482, 316, 872]\n",
            "even list count 3\n",
            "Prime list [557, 199, 641, 547, 587]\n",
            "Prime list count 5\n"
          ]
        }
      ]
    },
    {
      "cell_type": "markdown",
      "source": [
        "Q7. D is a dictionary defined as D={1:\"One\",2:\"Two\",3:\"Three\",4:\"Four\", 5:\"Five\"}. \n",
        " WAP to read all the keys and values from dictionary and write to the file in the given below format.\n",
        "Key1, Value1\n",
        "Key2, Value2\n",
        "Key3, Value3\n"
      ],
      "metadata": {
        "id": "YghD6BEozv2k"
      }
    },
    {
      "cell_type": "code",
      "source": [
        "D={1:\"One\",2:\"Two\",3:\"Three\",4:\"Four\", 5:\"Five\"}\n",
        "\n",
        "Writefp=open('abc.txt','w')\t# Open the file in writing mode\n",
        "for e in D: \n",
        "\tWritefp.write(str(e) +','+ D[e]  +'\\n')\n",
        "\t\n",
        "Writefp.close()\n",
        "\n",
        "print (\"Writing done !! \\nOpen abc.txt to view the content\")"
      ],
      "metadata": {
        "colab": {
          "base_uri": "https://localhost:8080/"
        },
        "id": "KtJ6dlW3zx-L",
        "outputId": "6b869106-00e8-45a2-fcec-8badb50e4d19"
      },
      "execution_count": null,
      "outputs": [
        {
          "output_type": "stream",
          "name": "stdout",
          "text": [
            "Writing done !! \n",
            "Open abc.txt to view the content\n"
          ]
        }
      ]
    },
    {
      "cell_type": "markdown",
      "source": [
        "8. L is a list defined as L={\"One\",\"Two\",\"Three\",\"Four\",\"Five\"}.\n",
        " WAP to count the length of reach element from a list and write to the file in the given below format:\n",
        "One, 3\n",
        "Two, 3\n",
        "Four, 4"
      ],
      "metadata": {
        "id": "3kwe7M4-2nt7"
      }
    },
    {
      "cell_type": "code",
      "source": [
        "L=[\"One\",\"Two\",\"Three\",\"Four\",\"Five\"]\n",
        "\n",
        "Writefp=open('abc.txt','w')\t# Open the file in writing mode\n",
        "for e in L: \n",
        "  s=len(str(e))\n",
        "  Writefp.write(e +',' + str(s) +'\\n')\n",
        "\t\n",
        "Writefp.close()\n",
        "\n",
        "print (\"Writing done !! \\nOpen abc.txt to view the content\")\n",
        "\n"
      ],
      "metadata": {
        "colab": {
          "base_uri": "https://localhost:8080/"
        },
        "id": "0c8Boj2d2uF9",
        "outputId": "a0d54f7a-9521-4ce2-e168-c34c10b63b3a"
      },
      "execution_count": null,
      "outputs": [
        {
          "output_type": "stream",
          "name": "stdout",
          "text": [
            "Writing done !! \n",
            "Open abc.txt to view the content\n"
          ]
        }
      ]
    },
    {
      "cell_type": "markdown",
      "source": [
        "9.Write to the file 100 random strings whose length between 10 and 15"
      ],
      "metadata": {
        "id": "eI0ohlIi5dhQ"
      }
    },
    {
      "cell_type": "code",
      "source": [
        "import string as s\n",
        "import random as r\n",
        "print (\"Random numbers 10 to 15 length        --> \")\n",
        "\n",
        "for i in range(0,5):\n",
        "  k=r.randint(10,15)\n",
        "  passwd=r.sample(s.ascii_letters, k)\n",
        "  passwd1=\"\".join(passwd)\n",
        "  print (passwd1)"
      ],
      "metadata": {
        "colab": {
          "base_uri": "https://localhost:8080/"
        },
        "id": "QVuOI6Yk5pYt",
        "outputId": "e1bdbea3-ac60-4f33-e8d7-80349f8215ad"
      },
      "execution_count": null,
      "outputs": [
        {
          "output_type": "stream",
          "name": "stdout",
          "text": [
            "Random numbers 10 to 15 length        --> \n",
            "bEVYgCQiZn\n",
            "DomIPSYfvJqzb\n",
            "wVGZDagbTL\n",
            "KfjGHzwgvUyxi\n",
            "AgIETNRjnyLDqX\n"
          ]
        }
      ]
    },
    {
      "cell_type": "markdown",
      "source": [
        "Q10. Write to the file all prime numbers between 600 and 800. Q11. WAP to calculate the time taken by a program."
      ],
      "metadata": {
        "id": "-2rxEZod6Cyh"
      }
    },
    {
      "cell_type": "code",
      "source": [
        "import time\n",
        " \n",
        "# ts stores the time in seconds\n",
        "ts = time.time()\n",
        " \n",
        "def IsPrime(n):\n",
        "\tfor i in range(2, n//2 + 1):\n",
        "\t\tif n%i==0:\n",
        "\t\t\treturn 0\n",
        "\treturn 1\n",
        "\n",
        "for i in range(600,800):\n",
        "  if  IsPrime(i): \n",
        "    print(i)\n",
        "\n",
        "ts2 = time.time()\n",
        "print (\"time taken in secs\", ts2-ts)"
      ],
      "metadata": {
        "colab": {
          "base_uri": "https://localhost:8080/"
        },
        "id": "c2gf3a-X6EB3",
        "outputId": "30787870-6de2-4c91-aa6f-c375f658018a"
      },
      "execution_count": null,
      "outputs": [
        {
          "output_type": "stream",
          "name": "stdout",
          "text": [
            "601\n",
            "607\n",
            "613\n",
            "617\n",
            "619\n",
            "631\n",
            "641\n",
            "643\n",
            "647\n",
            "653\n",
            "659\n",
            "661\n",
            "673\n",
            "677\n",
            "683\n",
            "691\n",
            "701\n",
            "709\n",
            "719\n",
            "727\n",
            "733\n",
            "739\n",
            "743\n",
            "751\n",
            "757\n",
            "761\n",
            "769\n",
            "773\n",
            "787\n",
            "797\n",
            "time taken in secs 0.01354837417602539\n"
          ]
        }
      ]
    },
    {
      "cell_type": "markdown",
      "source": [
        "Challenge question: \n",
        "Write a python program to sort the list of heterogeneous data. \n",
        "e.g. \n",
        "L = [\"Ram\", 1, \"Shyam\", 2, \"Aman\", 3]\n",
        "print(L)\n",
        "L.sort()\n",
        "print(L)\n",
        "# Above code gives error. Correct i"
      ],
      "metadata": {
        "id": "9606Kgyl7kjF"
      }
    },
    {
      "cell_type": "code",
      "source": [
        "L = [\"Ram\", 1, \"Shyam\", 2, \"Aman\", 3]\n",
        "print(L)\n",
        "key=\"\"\n",
        "# Sort Mixed List\n",
        "# using sorted() + key + lambda + isdigit()\n",
        "res = sorted(L, key = lambda ele: (0, int(ele))  if ele.isdigit() else (1, ele))\n",
        "\n",
        "print(\"sorted list \", res)\n",
        "# Above code gives error. Correct i"
      ],
      "metadata": {
        "colab": {
          "base_uri": "https://localhost:8080/",
          "height": 408
        },
        "id": "tomQFiS171ux",
        "outputId": "1b345774-67bf-4dc1-8d07-fb2f8f205a5f"
      },
      "execution_count": null,
      "outputs": [
        {
          "output_type": "stream",
          "name": "stdout",
          "text": [
            "['Ram', 1, 'Shyam', 2, 'Aman', 3]\n"
          ]
        },
        {
          "output_type": "error",
          "ename": "AttributeError",
          "evalue": "ignored",
          "traceback": [
            "\u001b[0;31m---------------------------------------------------------------------------\u001b[0m",
            "\u001b[0;31mAttributeError\u001b[0m                            Traceback (most recent call last)",
            "\u001b[0;32m<ipython-input-111-647d760d1fe3>\u001b[0m in \u001b[0;36m<cell line: 6>\u001b[0;34m()\u001b[0m\n\u001b[1;32m      4\u001b[0m \u001b[0;31m# Sort Mixed List\u001b[0m\u001b[0;34m\u001b[0m\u001b[0;34m\u001b[0m\u001b[0m\n\u001b[1;32m      5\u001b[0m \u001b[0;31m# using sorted() + key + lambda + isdigit()\u001b[0m\u001b[0;34m\u001b[0m\u001b[0;34m\u001b[0m\u001b[0m\n\u001b[0;32m----> 6\u001b[0;31m \u001b[0mres\u001b[0m \u001b[0;34m=\u001b[0m \u001b[0msorted\u001b[0m\u001b[0;34m(\u001b[0m\u001b[0mL\u001b[0m\u001b[0;34m,\u001b[0m \u001b[0mkey\u001b[0m \u001b[0;34m=\u001b[0m \u001b[0;32mlambda\u001b[0m \u001b[0mele\u001b[0m\u001b[0;34m:\u001b[0m \u001b[0;34m(\u001b[0m\u001b[0;36m0\u001b[0m\u001b[0;34m,\u001b[0m \u001b[0mint\u001b[0m\u001b[0;34m(\u001b[0m\u001b[0mele\u001b[0m\u001b[0;34m)\u001b[0m\u001b[0;34m)\u001b[0m  \u001b[0;32mif\u001b[0m \u001b[0mele\u001b[0m\u001b[0;34m.\u001b[0m\u001b[0misdigit\u001b[0m\u001b[0;34m(\u001b[0m\u001b[0;34m)\u001b[0m \u001b[0;32melse\u001b[0m \u001b[0;34m(\u001b[0m\u001b[0;36m1\u001b[0m\u001b[0;34m,\u001b[0m \u001b[0mele\u001b[0m\u001b[0;34m)\u001b[0m\u001b[0;34m)\u001b[0m\u001b[0;34m\u001b[0m\u001b[0;34m\u001b[0m\u001b[0m\n\u001b[0m\u001b[1;32m      7\u001b[0m \u001b[0;34m\u001b[0m\u001b[0m\n\u001b[1;32m      8\u001b[0m \u001b[0mprint\u001b[0m\u001b[0;34m(\u001b[0m\u001b[0;34m\"sorted list \"\u001b[0m\u001b[0;34m,\u001b[0m \u001b[0mres\u001b[0m\u001b[0;34m)\u001b[0m\u001b[0;34m\u001b[0m\u001b[0;34m\u001b[0m\u001b[0m\n",
            "\u001b[0;32m<ipython-input-111-647d760d1fe3>\u001b[0m in \u001b[0;36m<lambda>\u001b[0;34m(ele)\u001b[0m\n\u001b[1;32m      4\u001b[0m \u001b[0;31m# Sort Mixed List\u001b[0m\u001b[0;34m\u001b[0m\u001b[0;34m\u001b[0m\u001b[0m\n\u001b[1;32m      5\u001b[0m \u001b[0;31m# using sorted() + key + lambda + isdigit()\u001b[0m\u001b[0;34m\u001b[0m\u001b[0;34m\u001b[0m\u001b[0m\n\u001b[0;32m----> 6\u001b[0;31m \u001b[0mres\u001b[0m \u001b[0;34m=\u001b[0m \u001b[0msorted\u001b[0m\u001b[0;34m(\u001b[0m\u001b[0mL\u001b[0m\u001b[0;34m,\u001b[0m \u001b[0mkey\u001b[0m \u001b[0;34m=\u001b[0m \u001b[0;32mlambda\u001b[0m \u001b[0mele\u001b[0m\u001b[0;34m:\u001b[0m \u001b[0;34m(\u001b[0m\u001b[0;36m0\u001b[0m\u001b[0;34m,\u001b[0m \u001b[0mint\u001b[0m\u001b[0;34m(\u001b[0m\u001b[0mele\u001b[0m\u001b[0;34m)\u001b[0m\u001b[0;34m)\u001b[0m  \u001b[0;32mif\u001b[0m \u001b[0mele\u001b[0m\u001b[0;34m.\u001b[0m\u001b[0misdigit\u001b[0m\u001b[0;34m(\u001b[0m\u001b[0;34m)\u001b[0m \u001b[0;32melse\u001b[0m \u001b[0;34m(\u001b[0m\u001b[0;36m1\u001b[0m\u001b[0;34m,\u001b[0m \u001b[0mele\u001b[0m\u001b[0;34m)\u001b[0m\u001b[0;34m)\u001b[0m\u001b[0;34m\u001b[0m\u001b[0;34m\u001b[0m\u001b[0m\n\u001b[0m\u001b[1;32m      7\u001b[0m \u001b[0;34m\u001b[0m\u001b[0m\n\u001b[1;32m      8\u001b[0m \u001b[0mprint\u001b[0m\u001b[0;34m(\u001b[0m\u001b[0;34m\"sorted list \"\u001b[0m\u001b[0;34m,\u001b[0m \u001b[0mres\u001b[0m\u001b[0;34m)\u001b[0m\u001b[0;34m\u001b[0m\u001b[0;34m\u001b[0m\u001b[0m\n",
            "\u001b[0;31mAttributeError\u001b[0m: 'int' object has no attribute 'isdigit'"
          ]
        }
      ]
    }
  ]
}